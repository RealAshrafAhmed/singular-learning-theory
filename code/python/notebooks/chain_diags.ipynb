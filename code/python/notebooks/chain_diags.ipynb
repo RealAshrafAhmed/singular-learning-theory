{
 "cells": [
  {
   "cell_type": "code",
   "execution_count": 1,
   "id": "4fda89a2-a6ed-4fa4-a70d-e4b44a7d53e7",
   "metadata": {},
   "outputs": [],
   "source": [
    "# init the workdirectly to be able to import local python modules\n",
    "# just like the case in the actual python command line\n",
    "import sys\n",
    "import os\n",
    "notebook_dir = os.getcwd()\n",
    "parent_dir = os.path.dirname(notebook_dir)\n",
    "if parent_dir not in sys.path:\n",
    "    sys.path.insert(0, parent_dir)"
   ]
  },
  {
   "cell_type": "code",
   "execution_count": 2,
   "id": "a4e076af-c0bb-4ddb-85df-3db6c2567a13",
   "metadata": {},
   "outputs": [],
   "source": [
    "import arviz as az\n",
    "import matplotlib.pyplot as plt\n",
    "import numpy as np\n",
    "from pathlib import Path\n",
    "import pymc as pm\n",
    "import pytensor as pt\n",
    "from estimation.mixnorm.ksigma.model import tempered_normal_mixture\n",
    "from estimation.mixnorm.ksigma.pymc_tools import progress_callback"
   ]
  },
  {
   "cell_type": "code",
   "execution_count": 3,
   "id": "9e2c1e31-4fd5-4ff7-a9f8-9c9bc0e6b03e",
   "metadata": {},
   "outputs": [
    {
     "name": "stdout",
     "output_type": "stream",
     "text": [
      "Running on PyMC v5.23.0\n"
     ]
    }
   ],
   "source": [
    "%config InlineBackend.figure_format = 'retina'\n",
    "# Initialize random number generator\n",
    "RANDOM_SEED = 8927\n",
    "rng = np.random.default_rng(RANDOM_SEED)\n",
    "az.style.use(\"arviz-darkgrid\")\n",
    "print(f\"Running on PyMC v{pm.__version__}\")"
   ]
  },
  {
   "cell_type": "code",
   "execution_count": 4,
   "id": "d8cc9829-28bb-41fa-a7be-8e8986bfe6f2",
   "metadata": {},
   "outputs": [],
   "source": [
    "# True parameter values\n",
    "mu=0\n",
    "sigma=1\n",
    "# sample sizes for the different simulations\n",
    "n_factors = np.array([10, 50, 100, 200, 250, 500, 1000])"
   ]
  },
  {
   "cell_type": "code",
   "execution_count": 5,
   "id": "4ee5f1c7-bf11-4dc7-b0a8-74a18219ad69",
   "metadata": {},
   "outputs": [],
   "source": [
    "pathstr = \"../estimation/mixnorm/ksigma/data/observations/n{n}.csv\"\n",
    "x_data = np.loadtxt(Path(pathstr.format(n=1000)), delimiter=',')"
   ]
  },
  {
   "cell_type": "code",
   "execution_count": 6,
   "id": "75af7fab-fe24-433d-84e8-0353b27bff84",
   "metadata": {},
   "outputs": [
    {
     "name": "stderr",
     "output_type": "stream",
     "text": [
      "Initializing NUTS using jitter+adapt_diag...\n",
      "Multiprocess sampling (2 chains in 2 jobs)\n",
      "NUTS: [weights, mus, like]\n"
     ]
    },
    {
     "name": "stdout",
     "output_type": "stream",
     "text": [
      "Chain 1, completed 500 draws. Last draw in 0.009s with acceptance rate:0.996.\n",
      "Chain 0, completed 500 draws. Last draw in 0.009s with acceptance rate:0.985.\n",
      "Chain 1, completed 1000 draws. Last draw in 0.009s with acceptance rate:1.000.\n",
      "Chain 0, completed 1000 draws. Last draw in 0.019s with acceptance rate:0.997.\n",
      "Chain 1, completed 1500 draws. Last draw in 0.012s with acceptance rate:0.986.\n",
      "Chain 0, completed 1500 draws. Last draw in 0.020s with acceptance rate:0.997.\n",
      "Chain 1, completed 2000 draws. Last draw in 0.027s with acceptance rate:0.991.\n",
      "Chain 0, completed 2000 draws. Last draw in 0.089s with acceptance rate:0.990.\n",
      "Chain 1, completed 2500 draws. Last draw in 0.010s with acceptance rate:0.996.\n",
      "Chain 0, completed 2500 draws. Last draw in 0.045s with acceptance rate:0.996.\n",
      "Chain 1, completed 3000 draws. Last draw in 0.025s with acceptance rate:0.999.\n",
      "Chain 0, completed 3000 draws. Last draw in 0.038s with acceptance rate:0.998.\n",
      "Chain 1, completed 3500 draws. Last draw in 0.040s with acceptance rate:0.991.\n",
      "Chain 0, completed 3500 draws. Last draw in 0.029s with acceptance rate:1.000.\n",
      "Chain 1, completed 4000 draws. Last draw in 0.078s with acceptance rate:0.989.\n",
      "Chain 0, completed 4000 draws. Last draw in 0.021s with acceptance rate:0.998.\n",
      "Chain 1, completed 4500 draws. Last draw in 0.020s with acceptance rate:0.999.\n",
      "Chain 0, completed 4500 draws. Last draw in 0.045s with acceptance rate:0.996.\n",
      "Chain 1, completed 5000 draws. Last draw in 0.043s with acceptance rate:0.997.\n",
      "Chain 0, completed 5000 draws. Last draw in 0.004s with acceptance rate:0.988.\n",
      "Chain 1, completed 5500 draws. Last draw in 0.026s with acceptance rate:1.000.\n",
      "Chain 0, completed 5500 draws. Last draw in 0.018s with acceptance rate:0.999.\n",
      "Chain 1, completed 6000 draws. Last draw in 0.020s with acceptance rate:0.998.\n",
      "Chain 1, completed 6500 draws. Last draw in 0.009s with acceptance rate:0.998.\n",
      "Chain 0, completed 6000 draws. Last draw in 0.044s with acceptance rate:0.995.\n",
      "Chain 1, completed 7000 draws. Last draw in 0.020s with acceptance rate:0.996.\n",
      "Chain 0, completed 6500 draws. Last draw in 0.019s with acceptance rate:0.998.\n",
      "Chain 1, completed 7500 draws. Last draw in 0.019s with acceptance rate:0.998.\n",
      "Chain 0, completed 7000 draws. Last draw in 0.039s with acceptance rate:0.999.\n",
      "Chain 1, completed 8000 draws. Last draw in 0.019s with acceptance rate:0.998.\n",
      "Chain 0, completed 7500 draws. Last draw in 0.020s with acceptance rate:0.997.\n",
      "Chain 1, completed 8500 draws. Last draw in 0.020s with acceptance rate:1.000.\n",
      "Chain 0, completed 8000 draws. Last draw in 0.019s with acceptance rate:0.999.\n",
      "Chain 1, completed 9000 draws. Last draw in 0.039s with acceptance rate:0.995.\n",
      "Chain 0, completed 8500 draws. Last draw in 0.015s with acceptance rate:0.998.\n",
      "Chain 1, completed 9500 draws. Last draw in 0.017s with acceptance rate:0.987.\n",
      "Chain 0, completed 9000 draws. Last draw in 0.020s with acceptance rate:0.994.\n",
      "Chain 0, completed 9500 draws. Last draw in 0.014s with acceptance rate:0.999.\n"
     ]
    },
    {
     "name": "stderr",
     "output_type": "stream",
     "text": [
      "Sampling 2 chains for 2_000 tune and 8_000 draw iterations (4_000 + 16_000 draws total) took 263 seconds.\n",
      "We recommend running at least 4 chains for robust computation of convergence diagnostics\n"
     ]
    }
   ],
   "source": [
    "model = tempered_normal_mixture(beta=1/np.log(len(x_data)), \n",
    "                                data=x_data, \n",
    "                                n_components=3,\n",
    "                                weights_prior_alpha=np.full(3, 0.1),\n",
    "                                mean_prior_cov=pt.tensor.eye(3)*2\n",
    "                               )\n",
    "with model:\n",
    "    idata = pm.sample(draws=8000, tune=2000, chains=2,\n",
    "                      callback=progress_callback,\n",
    "                      progressbar=False,  # Disable the default progress bar.\n",
    "                      cores=10, max_treedepth=50, target_accept=.995)"
   ]
  },
  {
   "cell_type": "code",
   "execution_count": null,
   "id": "33f104b5-c2ab-4fd8-8628-2cfb24d630a8",
   "metadata": {},
   "outputs": [],
   "source": [
    "az.plot_trace(idata, combined=True);"
   ]
  },
  {
   "cell_type": "code",
   "execution_count": null,
   "id": "4c426c14-c1b7-4670-b96c-3cd454c38646",
   "metadata": {},
   "outputs": [],
   "source": [
    "az.plot_pair(idata, var_names=[\"weights\", \"mus\"], kind=\"scatter\")"
   ]
  },
  {
   "cell_type": "code",
   "execution_count": null,
   "id": "808a2c53-a8f6-4f89-8a9f-f3e59a9fd416",
   "metadata": {},
   "outputs": [],
   "source": [
    "az.plot_posterior(idata, var_names=[\"weights\", \"mus\"])"
   ]
  },
  {
   "cell_type": "code",
   "execution_count": null,
   "id": "045d9f42-c492-4a6e-b2e1-cbb5574a1b0b",
   "metadata": {},
   "outputs": [],
   "source": [
    "az.summary(idata, var_names=[\"weights\", \"mus\"], round_to=2)"
   ]
  },
  {
   "cell_type": "code",
   "execution_count": null,
   "id": "68545797-97c5-409c-9426-e1081e3ea715",
   "metadata": {},
   "outputs": [],
   "source": [
    "az.plot_forest(idata, var_names=[\"weights\", \"mus\"], combined=True, hdi_prob=0.95, r_hat=True);"
   ]
  },
  {
   "cell_type": "code",
   "execution_count": null,
   "id": "e8003cdd-c3c9-4b57-a75b-fbd379e8cf7c",
   "metadata": {},
   "outputs": [],
   "source": [
    "az.plot_energy(idata);"
   ]
  },
  {
   "cell_type": "code",
   "execution_count": null,
   "id": "ac45748f-3647-459b-ac25-cb802ca323f9",
   "metadata": {
    "scrolled": true
   },
   "outputs": [],
   "source": [
    "fig = plt.figure(figsize=(10, 8))\n",
    "ax = fig.add_subplot(111, projection='3d')\n",
    "colors = ['red', 'blue', 'green', 'yellow']\n",
    "\n",
    "# --- 4. Loop through chains and plot ---\n",
    "for i in range(2):\n",
    "    # chain_data = idata.posterior[\"mu\"][i, :, :] # Get data for the current chain (100x3)\n",
    "\n",
    "    x_coords = idata.posterior[\"mus\"][i, :, :][:, 0]\n",
    "    y_coords = idata.posterior[\"weights\"][i, :, :][:, 0]\n",
    "    z_coords = idata.posterior[\"weights\"][i, :, :][:, 1]\n",
    "\n",
    "    ax.scatter(\n",
    "        x_coords,\n",
    "        y_coords,\n",
    "        z_coords,\n",
    "        c=colors[i % len(colors)], # Use modulo to cycle colors if more chains than colors\n",
    "        s=5,                     # Size of markers\n",
    "        alpha=0.7,                # Transparency\n",
    "        # edgecolor='k',            # Black edges for markers\n",
    "        label=f'Chain {i}'        # Label for the legend\n",
    "    )\n",
    "\n",
    "# Adjust viewing angle (optional)\n",
    "ax.view_init(elev=45, azim=45)\n",
    "\n",
    "# Tight layout ensures labels and titles fit\n",
    "plt.tight_layout()"
   ]
  },
  {
   "cell_type": "code",
   "execution_count": null,
   "id": "b687d17f-5fb5-4f99-9fa6-174d2417424b",
   "metadata": {},
   "outputs": [],
   "source": []
  }
 ],
 "metadata": {
  "kernelspec": {
   "display_name": ".venv",
   "language": "python",
   "name": ".venv"
  },
  "language_info": {
   "codemirror_mode": {
    "name": "ipython",
    "version": 3
   },
   "file_extension": ".py",
   "mimetype": "text/x-python",
   "name": "python",
   "nbconvert_exporter": "python",
   "pygments_lexer": "ipython3",
   "version": "3.12.2"
  }
 },
 "nbformat": 4,
 "nbformat_minor": 5
}
